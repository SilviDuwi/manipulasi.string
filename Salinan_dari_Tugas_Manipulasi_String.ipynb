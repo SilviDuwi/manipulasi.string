{
  "nbformat": 4,
  "nbformat_minor": 0,
  "metadata": {
    "colab": {
      "provenance": [],
      "include_colab_link": true
    },
    "kernelspec": {
      "name": "python3",
      "display_name": "Python 3"
    },
    "language_info": {
      "name": "python"
    }
  },
  "cells": [
    {
      "cell_type": "markdown",
      "metadata": {
        "id": "view-in-github",
        "colab_type": "text"
      },
      "source": [
        "<a href=\"https://colab.research.google.com/github/SilviDuwi/manipulasi.string/blob/main/Salinan_dari_Tugas_Manipulasi_String.ipynb\" target=\"_parent\"><img src=\"https://colab.research.google.com/assets/colab-badge.svg\" alt=\"Open In Colab\"/></a>"
      ]
    },
    {
      "cell_type": "markdown",
      "source": [
        "buatlah class Catatan dengan atribut\n",
        "1. nama (string)\n",
        "2. nomor_absen (intejer)\n",
        "3. catatan (string)\n",
        "\n",
        "buat fungsi untuk\n",
        "1. menggabungkan semua atribut diatas menjadi sebuah kalimat menggunakan pertambahan string\n",
        "2. menampilkan kalimat gabungan semua atribut\n",
        "3. mencari kata dalam sebuah kalimat menggunakan fungsi in\n",
        "4. menggandakan jumlah kalimat menggunakan tanda perkalian *\n",
        "5. menghitung jumlah huruf dalam kalimat menggunakan len\n",
        "6. mencari kata pertama dalam kalimat menggunakan startswith"
      ],
      "metadata": {
        "id": "AIkziXKoHrlK"
      }
    },
    {
      "cell_type": "code",
      "source": [
        "class Catatan:\n",
        "  def __init__(self,nama,no_absen,catatan):\n",
        "    self.nama = nama\n",
        "    self.no_absen = no_absen\n",
        "    self.catatan = catatan\n",
        "\n",
        "  def gabung(self):\n",
        "    kalimat = self.nama + str(self.no_absen) + self.catatan\n",
        "    return kalimat\n",
        "\n",
        "  def tampil(self,kalimat):\n",
        "    print(kalimat)\n",
        "\n",
        "  def cari(self,kalimat):\n",
        "    print('silvi' in kalimat)\n",
        "\n",
        "  def duplikasi(self,kalimat):\n",
        "    print(kalimat * 1)\n",
        "\n",
        "  def jumlah(self,kalimat):\n",
        "    print(len(kalimat))\n",
        "\n",
        "  def kataawal(self,kalimat):\n",
        "    print(kalimat.startswith('silv'))"
      ],
      "metadata": {
        "id": "_YQuLGp_IA93"
      },
      "execution_count": 6,
      "outputs": []
    },
    {
      "cell_type": "code",
      "source": [
        "#main program\n",
        "murid = Catatan('silvi' ,8 ,'rendah')\n",
        "\n",
        "murid.gabung()\n",
        "murid.tampil(murid.gabung())\n",
        "murid.cari(murid.gabung())\n",
        "murid.duplikasi(murid.gabung())\n",
        "murid.jumlah(murid.gabung())\n",
        "murid.kataawal(murid.gabung())\n",
        ""
      ],
      "metadata": {
        "id": "QdIPVcTJID9Q",
        "colab": {
          "base_uri": "https://localhost:8080/"
        },
        "outputId": "ff563cd8-c4b7-4351-a06b-b65de6e8fc6f"
      },
      "execution_count": 7,
      "outputs": [
        {
          "output_type": "stream",
          "name": "stdout",
          "text": [
            "silvi8rendah\n",
            "True\n",
            "silvi8rendah\n",
            "12\n",
            "True\n"
          ]
        }
      ]
    }
  ]
}